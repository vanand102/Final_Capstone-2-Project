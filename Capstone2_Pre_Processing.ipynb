{
  "nbformat": 4,
  "nbformat_minor": 0,
  "metadata": {
    "colab": {
      "provenance": [],
      "authorship_tag": "ABX9TyMps8sJehx8qeSM9P57YSyK",
      "include_colab_link": true
    },
    "kernelspec": {
      "name": "python3",
      "display_name": "Python 3"
    },
    "language_info": {
      "name": "python"
    }
  },
  "cells": [
    {
      "cell_type": "markdown",
      "metadata": {
        "id": "view-in-github",
        "colab_type": "text"
      },
      "source": [
        "<a href=\"https://colab.research.google.com/github/vanand102/Final_Stroke-Data-Analysis/blob/main/Capstone2_Pre_Processing.ipynb\" target=\"_parent\"><img src=\"https://colab.research.google.com/assets/colab-badge.svg\" alt=\"Open In Colab\"/></a>"
      ]
    },
    {
      "cell_type": "markdown",
      "source": [
        "# **Data Pre-Processing**"
      ],
      "metadata": {
        "id": "eTtM2p7Qs3gw"
      }
    },
    {
      "cell_type": "code",
      "execution_count": 1,
      "metadata": {
        "colab": {
          "base_uri": "https://localhost:8080/"
        },
        "id": "kVPhNZF8a0oQ",
        "outputId": "0c2e5b5a-d6d5-45f8-915d-0a981ba12499"
      },
      "outputs": [
        {
          "output_type": "stream",
          "name": "stdout",
          "text": [
            "Mounted at /content/drive\n"
          ]
        }
      ],
      "source": [
        "#Mount Google Drive\n",
        "from google.colab import drive\n",
        "drive.mount('/content/drive')"
      ]
    },
    {
      "cell_type": "markdown",
      "source": [
        "Importing libraries"
      ],
      "metadata": {
        "id": "EHGoa-kC2x73"
      }
    },
    {
      "cell_type": "code",
      "source": [
        "#Import folder\n",
        "import sys\n",
        "sys.path.append('/content/drive/MyDrive/Springboard/Capstone 2')"
      ],
      "metadata": {
        "id": "Fot_Q92mewIn"
      },
      "execution_count": 2,
      "outputs": []
    },
    {
      "cell_type": "code",
      "source": [
        "#Import pandas, matplotlib.pyplot, and seaborn in the correct lines below\n",
        "import pandas as pd\n",
        "import matplotlib.pyplot as plt\n",
        "from scipy.stats import chi2_contingency\n",
        "import seaborn as sns\n",
        "from scipy.stats import stats\n",
        "import os\n",
        "import numpy as np\n",
        "\n",
        "# modeling\n",
        "#\n",
        "from sklearn.preprocessing import OneHotEncoder as OHE\n",
        "from sklearn.preprocessing import StandardScaler\n",
        "import sklearn.model_selection\n",
        "from sklearn.model_selection import train_test_split\n",
        "from sklearn.model_selection import KFold\n",
        "from sklearn.linear_model import LogisticRegression\n",
        "from sklearn.metrics import accuracy_score, f1_score\n",
        "from sklearn.metrics import classification_report\n",
        "from sklearn.metrics import confusion_matrix\n",
        "from sklearn.metrics import ConfusionMatrixDisplay\n",
        "#\n",
        "\n",
        "from library.sb_utils import save_file"
      ],
      "metadata": {
        "id": "xgdPMenJezhR"
      },
      "execution_count": 3,
      "outputs": []
    },
    {
      "cell_type": "code",
      "source": [
        "# the supplied CSV data file is the raw_data directory\n",
        "stroke_data = pd.read_csv('/content/drive/MyDrive/Springboard/Capstone 2/stroke_data_3.csv')"
      ],
      "metadata": {
        "id": "Az_AuNv--Kwu"
      },
      "execution_count": 4,
      "outputs": []
    },
    {
      "cell_type": "code",
      "source": [
        "stroke_data.info()"
      ],
      "metadata": {
        "colab": {
          "base_uri": "https://localhost:8080/"
        },
        "id": "27s868di-2yA",
        "outputId": "2ee5e6c4-f37b-429b-8ebb-7ce6c9aae6ec"
      },
      "execution_count": 5,
      "outputs": [
        {
          "output_type": "stream",
          "name": "stdout",
          "text": [
            "<class 'pandas.core.frame.DataFrame'>\n",
            "RangeIndex: 5110 entries, 0 to 5109\n",
            "Data columns (total 12 columns):\n",
            " #   Column             Non-Null Count  Dtype  \n",
            "---  ------             --------------  -----  \n",
            " 0   id                 5110 non-null   int64  \n",
            " 1   gender             5110 non-null   object \n",
            " 2   age                5110 non-null   float64\n",
            " 3   hypertension       5110 non-null   int64  \n",
            " 4   heart_disease      5110 non-null   int64  \n",
            " 5   ever_married       5110 non-null   object \n",
            " 6   work_type          5110 non-null   object \n",
            " 7   Residence_type     5110 non-null   object \n",
            " 8   avg_glucose_level  5110 non-null   float64\n",
            " 9   bmi                5110 non-null   float64\n",
            " 10  smoking_status     5110 non-null   object \n",
            " 11  stroke             5110 non-null   int64  \n",
            "dtypes: float64(3), int64(4), object(5)\n",
            "memory usage: 479.2+ KB\n"
          ]
        }
      ]
    },
    {
      "cell_type": "markdown",
      "source": [
        "Use the getdummies function on the categorical features in the data in order to create dummy variables."
      ],
      "metadata": {
        "id": "eegikhZy3CAR"
      }
    },
    {
      "cell_type": "code",
      "source": [
        "categorical_features = ['gender',\n",
        "                        'hypertension',\n",
        "                        'heart_disease',\n",
        "                        'ever_married',\n",
        "                        'work_type',\n",
        "                        'Residence_type',\n",
        "                        'smoking_status']\n",
        "stroke_data = pd.get_dummies(stroke_data, columns = categorical_features)\n",
        "print('The data have ', stroke_data.shape[0], ' rows and ', stroke_data.shape[1], ' columns\\n')\n",
        "print('column names: \\n')\n",
        "print('\\n'.join(list(stroke_data.columns)))"
      ],
      "metadata": {
        "colab": {
          "base_uri": "https://localhost:8080/"
        },
        "id": "g8TWaghj_HdX",
        "outputId": "e1972bf2-5e9a-4bf3-8b5e-156faf858f1b"
      },
      "execution_count": 6,
      "outputs": [
        {
          "output_type": "stream",
          "name": "stdout",
          "text": [
            "The data have  5110  rows and  25  columns\n",
            "\n",
            "column names: \n",
            "\n",
            "id\n",
            "age\n",
            "avg_glucose_level\n",
            "bmi\n",
            "stroke\n",
            "gender_Female\n",
            "gender_Male\n",
            "gender_Other\n",
            "hypertension_0\n",
            "hypertension_1\n",
            "heart_disease_0\n",
            "heart_disease_1\n",
            "ever_married_No\n",
            "ever_married_Yes\n",
            "work_type_Govt_job\n",
            "work_type_Never_worked\n",
            "work_type_Private\n",
            "work_type_Self-employed\n",
            "work_type_children\n",
            "Residence_type_Rural\n",
            "Residence_type_Urban\n",
            "smoking_status_Unknown\n",
            "smoking_status_formerly smoked\n",
            "smoking_status_never smoked\n",
            "smoking_status_smokes\n"
          ]
        }
      ]
    },
    {
      "cell_type": "markdown",
      "source": [
        "Use the standard scalar function on the numerical features in the data in order to scale the data."
      ],
      "metadata": {
        "id": "yq2vXRtP3wIG"
      }
    },
    {
      "cell_type": "code",
      "source": [
        "numerical_features = ['age',\n",
        "                      'avg_glucose_level',\n",
        "                      'bmi']\n",
        "# Making a Scaler object\n",
        "scaler = sklearn.preprocessing.StandardScaler()\n",
        "# Fitting data to the scaler object\n",
        "scaled_df = scaler.fit_transform(stroke_data[numerical_features])\n",
        "scaled_df = pd.DataFrame(scaled_df, columns=numerical_features)"
      ],
      "metadata": {
        "id": "9koOEDFOIMfC"
      },
      "execution_count": 7,
      "outputs": []
    },
    {
      "cell_type": "code",
      "source": [
        "scaled_data = stroke_data\n",
        "scaled_data['age'] = scaled_df['age']\n",
        "scaled_data['avg_glucose_level'] = scaled_df['avg_glucose_level']\n",
        "scaled_data['bmi'] = scaled_df['bmi']"
      ],
      "metadata": {
        "id": "ycgQ7cPQK8EF"
      },
      "execution_count": 8,
      "outputs": []
    },
    {
      "cell_type": "code",
      "source": [
        "scaled_data.head()"
      ],
      "metadata": {
        "id": "5tlHog0xvLn9",
        "outputId": "0b2826a1-8afe-4681-faf7-5b55dc097dad",
        "colab": {
          "base_uri": "https://localhost:8080/",
          "height": 317
        }
      },
      "execution_count": 9,
      "outputs": [
        {
          "output_type": "execute_result",
          "data": {
            "text/plain": [
              "      id       age  avg_glucose_level       bmi  stroke  gender_Female  \\\n",
              "0   9046  1.051434           2.706375  1.001234       1              0   \n",
              "1  51676  0.786070           2.121559  0.000000       1              1   \n",
              "2  31112  1.626390          -0.005028  0.468577       1              0   \n",
              "3  60182  0.255342           1.437358  0.715418       1              1   \n",
              "4   1665  1.582163           1.501184 -0.635711       1              1   \n",
              "\n",
              "   gender_Male  gender_Other  hypertension_0  hypertension_1  ...  \\\n",
              "0            1             0               1               0  ...   \n",
              "1            0             0               1               0  ...   \n",
              "2            1             0               1               0  ...   \n",
              "3            0             0               1               0  ...   \n",
              "4            0             0               0               1  ...   \n",
              "\n",
              "   work_type_Never_worked  work_type_Private  work_type_Self-employed  \\\n",
              "0                       0                  1                        0   \n",
              "1                       0                  0                        1   \n",
              "2                       0                  1                        0   \n",
              "3                       0                  1                        0   \n",
              "4                       0                  0                        1   \n",
              "\n",
              "   work_type_children  Residence_type_Rural  Residence_type_Urban  \\\n",
              "0                   0                     0                     1   \n",
              "1                   0                     1                     0   \n",
              "2                   0                     1                     0   \n",
              "3                   0                     0                     1   \n",
              "4                   0                     1                     0   \n",
              "\n",
              "   smoking_status_Unknown  smoking_status_formerly smoked  \\\n",
              "0                       0                               1   \n",
              "1                       0                               0   \n",
              "2                       0                               0   \n",
              "3                       0                               0   \n",
              "4                       0                               0   \n",
              "\n",
              "   smoking_status_never smoked  smoking_status_smokes  \n",
              "0                            0                      0  \n",
              "1                            1                      0  \n",
              "2                            1                      0  \n",
              "3                            0                      1  \n",
              "4                            1                      0  \n",
              "\n",
              "[5 rows x 25 columns]"
            ],
            "text/html": [
              "\n",
              "\n",
              "  <div id=\"df-f57e0474-af01-4247-8849-c4de6103c94b\">\n",
              "    <div class=\"colab-df-container\">\n",
              "      <div>\n",
              "<style scoped>\n",
              "    .dataframe tbody tr th:only-of-type {\n",
              "        vertical-align: middle;\n",
              "    }\n",
              "\n",
              "    .dataframe tbody tr th {\n",
              "        vertical-align: top;\n",
              "    }\n",
              "\n",
              "    .dataframe thead th {\n",
              "        text-align: right;\n",
              "    }\n",
              "</style>\n",
              "<table border=\"1\" class=\"dataframe\">\n",
              "  <thead>\n",
              "    <tr style=\"text-align: right;\">\n",
              "      <th></th>\n",
              "      <th>id</th>\n",
              "      <th>age</th>\n",
              "      <th>avg_glucose_level</th>\n",
              "      <th>bmi</th>\n",
              "      <th>stroke</th>\n",
              "      <th>gender_Female</th>\n",
              "      <th>gender_Male</th>\n",
              "      <th>gender_Other</th>\n",
              "      <th>hypertension_0</th>\n",
              "      <th>hypertension_1</th>\n",
              "      <th>...</th>\n",
              "      <th>work_type_Never_worked</th>\n",
              "      <th>work_type_Private</th>\n",
              "      <th>work_type_Self-employed</th>\n",
              "      <th>work_type_children</th>\n",
              "      <th>Residence_type_Rural</th>\n",
              "      <th>Residence_type_Urban</th>\n",
              "      <th>smoking_status_Unknown</th>\n",
              "      <th>smoking_status_formerly smoked</th>\n",
              "      <th>smoking_status_never smoked</th>\n",
              "      <th>smoking_status_smokes</th>\n",
              "    </tr>\n",
              "  </thead>\n",
              "  <tbody>\n",
              "    <tr>\n",
              "      <th>0</th>\n",
              "      <td>9046</td>\n",
              "      <td>1.051434</td>\n",
              "      <td>2.706375</td>\n",
              "      <td>1.001234</td>\n",
              "      <td>1</td>\n",
              "      <td>0</td>\n",
              "      <td>1</td>\n",
              "      <td>0</td>\n",
              "      <td>1</td>\n",
              "      <td>0</td>\n",
              "      <td>...</td>\n",
              "      <td>0</td>\n",
              "      <td>1</td>\n",
              "      <td>0</td>\n",
              "      <td>0</td>\n",
              "      <td>0</td>\n",
              "      <td>1</td>\n",
              "      <td>0</td>\n",
              "      <td>1</td>\n",
              "      <td>0</td>\n",
              "      <td>0</td>\n",
              "    </tr>\n",
              "    <tr>\n",
              "      <th>1</th>\n",
              "      <td>51676</td>\n",
              "      <td>0.786070</td>\n",
              "      <td>2.121559</td>\n",
              "      <td>0.000000</td>\n",
              "      <td>1</td>\n",
              "      <td>1</td>\n",
              "      <td>0</td>\n",
              "      <td>0</td>\n",
              "      <td>1</td>\n",
              "      <td>0</td>\n",
              "      <td>...</td>\n",
              "      <td>0</td>\n",
              "      <td>0</td>\n",
              "      <td>1</td>\n",
              "      <td>0</td>\n",
              "      <td>1</td>\n",
              "      <td>0</td>\n",
              "      <td>0</td>\n",
              "      <td>0</td>\n",
              "      <td>1</td>\n",
              "      <td>0</td>\n",
              "    </tr>\n",
              "    <tr>\n",
              "      <th>2</th>\n",
              "      <td>31112</td>\n",
              "      <td>1.626390</td>\n",
              "      <td>-0.005028</td>\n",
              "      <td>0.468577</td>\n",
              "      <td>1</td>\n",
              "      <td>0</td>\n",
              "      <td>1</td>\n",
              "      <td>0</td>\n",
              "      <td>1</td>\n",
              "      <td>0</td>\n",
              "      <td>...</td>\n",
              "      <td>0</td>\n",
              "      <td>1</td>\n",
              "      <td>0</td>\n",
              "      <td>0</td>\n",
              "      <td>1</td>\n",
              "      <td>0</td>\n",
              "      <td>0</td>\n",
              "      <td>0</td>\n",
              "      <td>1</td>\n",
              "      <td>0</td>\n",
              "    </tr>\n",
              "    <tr>\n",
              "      <th>3</th>\n",
              "      <td>60182</td>\n",
              "      <td>0.255342</td>\n",
              "      <td>1.437358</td>\n",
              "      <td>0.715418</td>\n",
              "      <td>1</td>\n",
              "      <td>1</td>\n",
              "      <td>0</td>\n",
              "      <td>0</td>\n",
              "      <td>1</td>\n",
              "      <td>0</td>\n",
              "      <td>...</td>\n",
              "      <td>0</td>\n",
              "      <td>1</td>\n",
              "      <td>0</td>\n",
              "      <td>0</td>\n",
              "      <td>0</td>\n",
              "      <td>1</td>\n",
              "      <td>0</td>\n",
              "      <td>0</td>\n",
              "      <td>0</td>\n",
              "      <td>1</td>\n",
              "    </tr>\n",
              "    <tr>\n",
              "      <th>4</th>\n",
              "      <td>1665</td>\n",
              "      <td>1.582163</td>\n",
              "      <td>1.501184</td>\n",
              "      <td>-0.635711</td>\n",
              "      <td>1</td>\n",
              "      <td>1</td>\n",
              "      <td>0</td>\n",
              "      <td>0</td>\n",
              "      <td>0</td>\n",
              "      <td>1</td>\n",
              "      <td>...</td>\n",
              "      <td>0</td>\n",
              "      <td>0</td>\n",
              "      <td>1</td>\n",
              "      <td>0</td>\n",
              "      <td>1</td>\n",
              "      <td>0</td>\n",
              "      <td>0</td>\n",
              "      <td>0</td>\n",
              "      <td>1</td>\n",
              "      <td>0</td>\n",
              "    </tr>\n",
              "  </tbody>\n",
              "</table>\n",
              "<p>5 rows × 25 columns</p>\n",
              "</div>\n",
              "      <button class=\"colab-df-convert\" onclick=\"convertToInteractive('df-f57e0474-af01-4247-8849-c4de6103c94b')\"\n",
              "              title=\"Convert this dataframe to an interactive table.\"\n",
              "              style=\"display:none;\">\n",
              "\n",
              "  <svg xmlns=\"http://www.w3.org/2000/svg\" height=\"24px\"viewBox=\"0 0 24 24\"\n",
              "       width=\"24px\">\n",
              "    <path d=\"M0 0h24v24H0V0z\" fill=\"none\"/>\n",
              "    <path d=\"M18.56 5.44l.94 2.06.94-2.06 2.06-.94-2.06-.94-.94-2.06-.94 2.06-2.06.94zm-11 1L8.5 8.5l.94-2.06 2.06-.94-2.06-.94L8.5 2.5l-.94 2.06-2.06.94zm10 10l.94 2.06.94-2.06 2.06-.94-2.06-.94-.94-2.06-.94 2.06-2.06.94z\"/><path d=\"M17.41 7.96l-1.37-1.37c-.4-.4-.92-.59-1.43-.59-.52 0-1.04.2-1.43.59L10.3 9.45l-7.72 7.72c-.78.78-.78 2.05 0 2.83L4 21.41c.39.39.9.59 1.41.59.51 0 1.02-.2 1.41-.59l7.78-7.78 2.81-2.81c.8-.78.8-2.07 0-2.86zM5.41 20L4 18.59l7.72-7.72 1.47 1.35L5.41 20z\"/>\n",
              "  </svg>\n",
              "      </button>\n",
              "\n",
              "\n",
              "\n",
              "    <div id=\"df-a8ec516d-b62d-4f05-83bf-0527a3130d5b\">\n",
              "      <button class=\"colab-df-quickchart\" onclick=\"quickchart('df-a8ec516d-b62d-4f05-83bf-0527a3130d5b')\"\n",
              "              title=\"Suggest charts.\"\n",
              "              style=\"display:none;\">\n",
              "\n",
              "<svg xmlns=\"http://www.w3.org/2000/svg\" height=\"24px\"viewBox=\"0 0 24 24\"\n",
              "     width=\"24px\">\n",
              "    <g>\n",
              "        <path d=\"M19 3H5c-1.1 0-2 .9-2 2v14c0 1.1.9 2 2 2h14c1.1 0 2-.9 2-2V5c0-1.1-.9-2-2-2zM9 17H7v-7h2v7zm4 0h-2V7h2v10zm4 0h-2v-4h2v4z\"/>\n",
              "    </g>\n",
              "</svg>\n",
              "      </button>\n",
              "    </div>\n",
              "\n",
              "<style>\n",
              "  .colab-df-quickchart {\n",
              "    background-color: #E8F0FE;\n",
              "    border: none;\n",
              "    border-radius: 50%;\n",
              "    cursor: pointer;\n",
              "    display: none;\n",
              "    fill: #1967D2;\n",
              "    height: 32px;\n",
              "    padding: 0 0 0 0;\n",
              "    width: 32px;\n",
              "  }\n",
              "\n",
              "  .colab-df-quickchart:hover {\n",
              "    background-color: #E2EBFA;\n",
              "    box-shadow: 0px 1px 2px rgba(60, 64, 67, 0.3), 0px 1px 3px 1px rgba(60, 64, 67, 0.15);\n",
              "    fill: #174EA6;\n",
              "  }\n",
              "\n",
              "  [theme=dark] .colab-df-quickchart {\n",
              "    background-color: #3B4455;\n",
              "    fill: #D2E3FC;\n",
              "  }\n",
              "\n",
              "  [theme=dark] .colab-df-quickchart:hover {\n",
              "    background-color: #434B5C;\n",
              "    box-shadow: 0px 1px 3px 1px rgba(0, 0, 0, 0.15);\n",
              "    filter: drop-shadow(0px 1px 2px rgba(0, 0, 0, 0.3));\n",
              "    fill: #FFFFFF;\n",
              "  }\n",
              "</style>\n",
              "\n",
              "    <script>\n",
              "      async function quickchart(key) {\n",
              "        const containerElement = document.querySelector('#' + key);\n",
              "        const charts = await google.colab.kernel.invokeFunction(\n",
              "            'suggestCharts', [key], {});\n",
              "      }\n",
              "    </script>\n",
              "\n",
              "      <script>\n",
              "\n",
              "function displayQuickchartButton(domScope) {\n",
              "  let quickchartButtonEl =\n",
              "    domScope.querySelector('#df-a8ec516d-b62d-4f05-83bf-0527a3130d5b button.colab-df-quickchart');\n",
              "  quickchartButtonEl.style.display =\n",
              "    google.colab.kernel.accessAllowed ? 'block' : 'none';\n",
              "}\n",
              "\n",
              "        displayQuickchartButton(document);\n",
              "      </script>\n",
              "      <style>\n",
              "    .colab-df-container {\n",
              "      display:flex;\n",
              "      flex-wrap:wrap;\n",
              "      gap: 12px;\n",
              "    }\n",
              "\n",
              "    .colab-df-convert {\n",
              "      background-color: #E8F0FE;\n",
              "      border: none;\n",
              "      border-radius: 50%;\n",
              "      cursor: pointer;\n",
              "      display: none;\n",
              "      fill: #1967D2;\n",
              "      height: 32px;\n",
              "      padding: 0 0 0 0;\n",
              "      width: 32px;\n",
              "    }\n",
              "\n",
              "    .colab-df-convert:hover {\n",
              "      background-color: #E2EBFA;\n",
              "      box-shadow: 0px 1px 2px rgba(60, 64, 67, 0.3), 0px 1px 3px 1px rgba(60, 64, 67, 0.15);\n",
              "      fill: #174EA6;\n",
              "    }\n",
              "\n",
              "    [theme=dark] .colab-df-convert {\n",
              "      background-color: #3B4455;\n",
              "      fill: #D2E3FC;\n",
              "    }\n",
              "\n",
              "    [theme=dark] .colab-df-convert:hover {\n",
              "      background-color: #434B5C;\n",
              "      box-shadow: 0px 1px 3px 1px rgba(0, 0, 0, 0.15);\n",
              "      filter: drop-shadow(0px 1px 2px rgba(0, 0, 0, 0.3));\n",
              "      fill: #FFFFFF;\n",
              "    }\n",
              "  </style>\n",
              "\n",
              "      <script>\n",
              "        const buttonEl =\n",
              "          document.querySelector('#df-f57e0474-af01-4247-8849-c4de6103c94b button.colab-df-convert');\n",
              "        buttonEl.style.display =\n",
              "          google.colab.kernel.accessAllowed ? 'block' : 'none';\n",
              "\n",
              "        async function convertToInteractive(key) {\n",
              "          const element = document.querySelector('#df-f57e0474-af01-4247-8849-c4de6103c94b');\n",
              "          const dataTable =\n",
              "            await google.colab.kernel.invokeFunction('convertToInteractive',\n",
              "                                                     [key], {});\n",
              "          if (!dataTable) return;\n",
              "\n",
              "          const docLinkHtml = 'Like what you see? Visit the ' +\n",
              "            '<a target=\"_blank\" href=https://colab.research.google.com/notebooks/data_table.ipynb>data table notebook</a>'\n",
              "            + ' to learn more about interactive tables.';\n",
              "          element.innerHTML = '';\n",
              "          dataTable['output_type'] = 'display_data';\n",
              "          await google.colab.output.renderOutput(dataTable, element);\n",
              "          const docLink = document.createElement('div');\n",
              "          docLink.innerHTML = docLinkHtml;\n",
              "          element.appendChild(docLink);\n",
              "        }\n",
              "      </script>\n",
              "    </div>\n",
              "  </div>\n"
            ]
          },
          "metadata": {},
          "execution_count": 9
        }
      ]
    },
    {
      "cell_type": "markdown",
      "source": [
        "Create the X and y variables and then split them into test and train data sets. I dropped the id column from the X data as the id column is not an important feature."
      ],
      "metadata": {
        "id": "bqNMEAB137A6"
      }
    },
    {
      "cell_type": "code",
      "source": [
        "X = scaled_data.drop(columns = ['stroke', 'id'])\n",
        "y = scaled_data['stroke']\n"
      ],
      "metadata": {
        "id": "wS3CX-saIfOQ"
      },
      "execution_count": 10,
      "outputs": []
    },
    {
      "cell_type": "code",
      "source": [
        "Xlr, Xtestlr, ylr, ytestlr = train_test_split(X, y, train_size = 0.80, random_state = 2)\n",
        "print('Training split has ', Xlr.shape[0], ' rows\\n',\n",
        "      'and the corresponding labels have an equal number of values.',\n",
        "      '(' + str(len(ylr))+ ')')\n",
        "print('Test split has ', Xtestlr.shape[0], ' rows\\n',\n",
        "      'and the corresponding labels have an equal number of values.',\n",
        "      '(' + str(len(ytestlr)) + ')')"
      ],
      "metadata": {
        "id": "VXOI7qiAJ6qt",
        "colab": {
          "base_uri": "https://localhost:8080/"
        },
        "outputId": "796ad82b-9bf5-4df3-a4a1-73448b98016d"
      },
      "execution_count": 11,
      "outputs": [
        {
          "output_type": "stream",
          "name": "stdout",
          "text": [
            "Training split has  4088  rows\n",
            " and the corresponding labels have an equal number of values. (4088)\n",
            "Test split has  1022  rows\n",
            " and the corresponding labels have an equal number of values. (1022)\n"
          ]
        }
      ]
    },
    {
      "cell_type": "markdown",
      "source": [
        "Save the scaled data to use in the Modeling step."
      ],
      "metadata": {
        "id": "3_sA-cnl4JC3"
      }
    },
    {
      "cell_type": "code",
      "source": [
        "datapath = '/content/drive/MyDrive/Springboard/Capstone 2'\n",
        "save_file(scaled_data, 'stroke_data_4.csv', datapath)"
      ],
      "metadata": {
        "id": "ikK9vdrXnoXO",
        "colab": {
          "base_uri": "https://localhost:8080/"
        },
        "outputId": "6fba3149-c0f4-4883-9347-a9755ab10781"
      },
      "execution_count": 12,
      "outputs": [
        {
          "output_type": "stream",
          "name": "stdout",
          "text": [
            "A file already exists with this name.\n",
            "\n",
            "Do you want to overwrite? (Y/N)N\n",
            "\n",
            "Please re-run this cell with a new filename.\n"
          ]
        }
      ]
    }
  ]
}